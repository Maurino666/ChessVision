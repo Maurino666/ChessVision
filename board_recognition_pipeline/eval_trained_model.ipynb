{
 "cells": [
  {
   "cell_type": "code",
   "id": "initial_id",
   "metadata": {
    "collapsed": true,
    "ExecuteTime": {
     "end_time": "2025-06-24T08:39:19.641743Z",
     "start_time": "2025-06-24T08:39:16.264060Z"
    }
   },
   "source": [
    "from pathlib import Path\n",
    "import json\n",
    "import torch\n",
    "import matplotlib.pyplot as plt\n",
    "\n",
    "from board_recognition.eval import evaluate_trained_model\n",
    "from board_recognition_pipeline.pipeline import PROJECT_ROOT"
   ],
   "outputs": [
    {
     "name": "stderr",
     "output_type": "stream",
     "text": [
      "C:\\Users\\mauri\\PycharmProjects\\ChessVision\\.venv\\Lib\\site-packages\\tqdm\\auto.py:21: TqdmWarning: IProgress not found. Please update jupyter and ipywidgets. See https://ipywidgets.readthedocs.io/en/stable/user_install.html\n",
      "  from .autonotebook import tqdm as notebook_tqdm\n"
     ]
    }
   ],
   "execution_count": 1
  },
  {
   "metadata": {
    "ExecuteTime": {
     "end_time": "2025-06-24T08:39:19.726486Z",
     "start_time": "2025-06-24T08:39:19.722364Z"
    }
   },
   "cell_type": "code",
   "source": [
    "\n",
    "PROJECT_ROOT = Path.cwd().parent.resolve()\n",
    "\n",
    "CKPT_PATH   = PROJECT_ROOT / \"runs\" / \"board_recognition\" / \"keypoint_rcnn_chessboard_20250427_210148.pth\"\n",
    "TEST_IMAGES = PROJECT_ROOT / \"datasets\" / \"synthetic_dataset\" / \"test\" / \"images\"\n",
    "TEST_CSV    = PROJECT_ROOT / \"datasets\" / \"synthetic_dataset\" / \"test\" / \"corners.csv\"\n",
    "\n",
    "print(CKPT_PATH)\n",
    "print(TEST_IMAGES)\n",
    "print(TEST_CSV)\n",
    "\n",
    "NUM_KEYPOINTS = 4      # TL, TR, BL, BR\n",
    "DEVICE        = \"cuda\""
   ],
   "id": "324ba3d3bfb7bd22",
   "outputs": [
    {
     "name": "stdout",
     "output_type": "stream",
     "text": [
      "C:\\Users\\mauri\\PycharmProjects\\ChessVision\\runs\\board_recognition\\keypoint_rcnn_chessboard_20250427_210148.pth\n",
      "C:\\Users\\mauri\\PycharmProjects\\ChessVision\\datasets\\synthetic_dataset\\test\\images\n",
      "C:\\Users\\mauri\\PycharmProjects\\ChessVision\\datasets\\synthetic_dataset\\test\\corners.csv\n"
     ]
    }
   ],
   "execution_count": 2
  },
  {
   "metadata": {
    "ExecuteTime": {
     "end_time": "2025-06-24T08:41:43.002919Z",
     "start_time": "2025-06-24T08:39:19.736067Z"
    }
   },
   "cell_type": "code",
   "source": [
    "evaluate_trained_model(\n",
    "    model_path=CKPT_PATH,\n",
    "    dataset_root=TEST_IMAGES,\n",
    "    csv_path=TEST_CSV,\n",
    "    num_keypoints=NUM_KEYPOINTS,\n",
    "    output_dir=PROJECT_ROOT / \"runs\" / \"board_recognition\" / \"eval\",\n",
    "    device=DEVICE\n",
    ")"
   ],
   "id": "88e48cb58a812c6d",
   "outputs": [
    {
     "name": "stderr",
     "output_type": "stream",
     "text": [
      "Evaluating: 100%|██████████| 2000/2000 [02:21<00:00, 14.11img/s]\n"
     ]
    },
    {
     "name": "stdout",
     "output_type": "stream",
     "text": [
      "[Eval-Save] Metrics written to C:\\Users\\mauri\\PycharmProjects\\ChessVision\\runs\\board_recognition\\eval\\metrics.json\n"
     ]
    },
    {
     "data": {
      "text/plain": [
       "{'mean_l2_px': 6.262828939378261,\n",
       " 'mean_pck_3px': 0.5495,\n",
       " 'mean_pck_5px': 0.8095,\n",
       " 'mean_pck_norm_005': 0.991,\n",
       " 'mean_pck_norm_010': 0.991,\n",
       " 'bbox_map': 0.9741624593734741,\n",
       " 'bbox_map_50': 1.0}"
      ]
     },
     "execution_count": 3,
     "metadata": {},
     "output_type": "execute_result"
    }
   ],
   "execution_count": 3
  }
 ],
 "metadata": {
  "kernelspec": {
   "display_name": "Python 3",
   "language": "python",
   "name": "python3"
  },
  "language_info": {
   "codemirror_mode": {
    "name": "ipython",
    "version": 2
   },
   "file_extension": ".py",
   "mimetype": "text/x-python",
   "name": "python",
   "nbconvert_exporter": "python",
   "pygments_lexer": "ipython2",
   "version": "2.7.6"
  }
 },
 "nbformat": 4,
 "nbformat_minor": 5
}
